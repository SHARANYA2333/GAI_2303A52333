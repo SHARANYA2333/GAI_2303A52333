{
  "nbformat": 4,
  "nbformat_minor": 0,
  "metadata": {
    "colab": {
      "provenance": [],
      "authorship_tag": "ABX9TyNCl+jEO8tipJFP/hS80qLn",
      "include_colab_link": true
    },
    "kernelspec": {
      "name": "python3",
      "display_name": "Python 3"
    },
    "language_info": {
      "name": "python"
    }
  },
  "cells": [
    {
      "cell_type": "markdown",
      "metadata": {
        "id": "view-in-github",
        "colab_type": "text"
      },
      "source": [
        "<a href=\"https://colab.research.google.com/github/SHARANYA2333/GAI_2303A52333/blob/main/GAI_LAB02.ipynb\" target=\"_parent\"><img src=\"https://colab.research.google.com/assets/colab-badge.svg\" alt=\"Open In Colab\"/></a>"
      ]
    },
    {
      "cell_type": "code",
      "execution_count": 1,
      "metadata": {
        "colab": {
          "base_uri": "https://localhost:8080/"
        },
        "id": "O2Z2Gmr7CY2R",
        "outputId": "551aed0e-6575-451a-cb64-5f269641d836"
      },
      "outputs": [
        {
          "output_type": "stream",
          "name": "stdout",
          "text": [
            "Optimal number of Chocolate A: 2\n",
            "Optimal number of Chocolate B: 3\n",
            "Maximum Profit: Rs 27\n",
            "\n",
            "Verification:\n",
            "Milk used: 5 units (must be ≤ 5)\n",
            "Choco used: 12 units (must be ≤ 12)\n"
          ]
        }
      ],
      "source": [
        "def calculate_profit(a, b):\n",
        "    return 6*a + 5*b\n",
        "\n",
        "def is_valid(a, b):\n",
        "    if a + b > 5:\n",
        "        return False\n",
        "    if 3*a + 2*b > 12:\n",
        "        return False\n",
        "    return True\n",
        "\n",
        "max_profit = 0\n",
        "best_a = 0\n",
        "best_b = 0\n",
        "\n",
        "for a in range(6):\n",
        "    for b in range(6):\n",
        "        if is_valid(a, b):\n",
        "            profit = calculate_profit(a, b)\n",
        "            if profit > max_profit:\n",
        "                max_profit = profit\n",
        "                best_a = a\n",
        "                best_b = b\n",
        "\n",
        "print(f\"Optimal number of Chocolate A: {best_a}\")\n",
        "print(f\"Optimal number of Chocolate B: {best_b}\")\n",
        "print(f\"Maximum Profit: Rs {max_profit}\")\n",
        "\n",
        "print(\"\\nVerification:\")\n",
        "print(f\"Milk used: {best_a + best_b} units (must be ≤ 5)\")\n",
        "print(f\"Choco used: {3*best_a + 2*best_b} units (must be ≤ 12)\")"
      ]
    },
    {
      "cell_type": "code",
      "source": [
        "from scipy.optimize import linprog\n",
        "c = [-50, -120]\n",
        "A = [\n",
        "    [1, 1],\n",
        "    [7000, 2000],\n",
        "    [10, 30]\n",
        "]\n",
        "b = [110, 700000, 1200]\n",
        "x_bounds = (0, None)\n",
        "y_bounds = (0, None)\n",
        "result = linprog(c, A_ub=A, b_ub=b, bounds=[x_bounds, y_bounds], method='highs')\n",
        "if result.success:\n",
        "    print(f\"Optimal number of hectares of Wheat to plant: {result.x[0]:.2f}\")\n",
        "    print(f\"Optimal number of hectares of Barley to plant: {result.x[1]:.2f}\")\n",
        "    print(f\"Maximum profit: Rs {result.fun * -1:.2f}\")  # Since we minimized -profit\n",
        "else:\n",
        "    print(\"No solution found.\")"
      ],
      "metadata": {
        "colab": {
          "base_uri": "https://localhost:8080/"
        },
        "id": "8dq21gctCgah",
        "outputId": "1b3069f7-b0cc-4e52-e0b5-41b40c50a7eb"
      },
      "execution_count": 2,
      "outputs": [
        {
          "output_type": "stream",
          "name": "stdout",
          "text": [
            "Optimal number of hectares of Wheat to plant: 97.89\n",
            "Optimal number of hectares of Barley to plant: 7.37\n",
            "Maximum profit: Rs 5778.95\n"
          ]
        }
      ]
    }
  ]
}