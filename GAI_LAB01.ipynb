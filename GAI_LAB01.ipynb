{
  "nbformat": 4,
  "nbformat_minor": 0,
  "metadata": {
    "colab": {
      "provenance": [],
      "toc_visible": true,
      "authorship_tag": "ABX9TyNFagEFmUA72/D1SVnubvdJ",
      "include_colab_link": true
    },
    "kernelspec": {
      "name": "python3",
      "display_name": "Python 3"
    },
    "language_info": {
      "name": "python"
    }
  },
  "cells": [
    {
      "cell_type": "markdown",
      "metadata": {
        "id": "view-in-github",
        "colab_type": "text"
      },
      "source": [
        "<a href=\"https://colab.research.google.com/github/SHARANYA2333/GAI_2303A52333/blob/main/GAI_LAB01.ipynb\" target=\"_parent\"><img src=\"https://colab.research.google.com/assets/colab-badge.svg\" alt=\"Open In Colab\"/></a>"
      ]
    },
    {
      "cell_type": "code",
      "source": [
        "import numpy as np\n",
        "from sklearn.metrics import mean_absolute_error, mean_squared_error, r2_score\n",
        "\n",
        "\n",
        "y_actual = np.array([20, 30, 40, 50, 60])\n",
        "y_pred = np.array([20.5, 30.3, 40.2, 50.6, 60.7])\n",
        "\n",
        "mae = np.mean(np.abs(y_actual - y_pred))\n",
        "\n",
        "mse = np.mean((y_actual - y_pred) ** 2)\n",
        "\n",
        "rmse = np.sqrt(mse)\n",
        "\n",
        "r2 = r2_score(y_actual, y_pred)\n",
        "\n",
        "print(f\"Mean Absolute Error (MAE): {mae}\")\n",
        "print(f\"Mean Squared Error (MSE): {mse}\")\n",
        "print(f\"Root Mean Squared Error (RMSE): {rmse}\")\n",
        "print(f\"R-squared (R2): {r2}\")\n",
        "\n",
        "print(\"\\nComparison with scikit-learn metrics:\")\n",
        "print(f\"MAE (sklearn): {mean_absolute_error(y_actual, y_pred)}\")\n",
        "print(f\"MSE (sklearn): {mean_squared_error(y_actual, y_pred)}\")\n",
        "print(f\"RMSE (sklearn): {np.sqrt(mean_squared_error(y_actual, y_pred))}\")\n",
        "print(f\"R2 (sklearn): {r2_score(y_actual, y_pred)}\")"
      ],
      "metadata": {
        "colab": {
          "base_uri": "https://localhost:8080/"
        },
        "id": "NLOkDbzC2gvA",
        "outputId": "13bb8f8d-6739-424f-aff8-396482a92243"
      },
      "execution_count": null,
      "outputs": [
        {
          "output_type": "stream",
          "name": "stdout",
          "text": [
            "Mean Absolute Error (MAE): 0.4600000000000016\n",
            "Mean Squared Error (MSE): 0.24600000000000147\n",
            "Root Mean Squared Error (RMSE): 0.49598387070549127\n",
            "R-squared (R2): 0.99877\n",
            "\n",
            "Comparison with scikit-learn metrics:\n",
            "MAE (sklearn): 0.4600000000000016\n",
            "MSE (sklearn): 0.24600000000000147\n",
            "RMSE (sklearn): 0.49598387070549127\n",
            "R2 (sklearn): 0.99877\n"
          ]
        }
      ]
    },
    {
      "cell_type": "code",
      "source": [
        "from sklearn.metrics import accuracy_score, precision_score, recall_score, f1_score\n",
        "\n",
        "y_actual_class = np.array([0, 0, 1, 1, 2, 0, 0, 0, 1, 0, 2, 0, 0, 2, 1, 2, 2])\n",
        "y_pred_class = np.array([0, 0, 1, 0, 2, 0, 0, 1, 1, 2, 2, 1, 0, 2, 2, 2, 2])\n",
        "\n",
        "accuracy = accuracy_score(y_actual_class, y_pred_class)\n",
        "\n",
        "precision = precision_score(y_actual_class, y_pred_class, average='weighted', labels=np.unique(y_pred_class))\n",
        "\n",
        "recall = recall_score(y_actual_class, y_pred_class, average='weighted', labels=np.unique(y_pred_class))\n",
        "\n",
        "f1 = f1_score(y_actual_class, y_pred_class, average='weighted', labels=np.unique(y_pred_class))\n",
        "\n",
        "print(f\"Accuracy: {accuracy}\")\n",
        "print(f\"Precision: {precision}\")\n",
        "print(f\"Recall: {recall}\")\n",
        "print(f\"F1 Score: {f1}\")\n",
        "\n",
        "print(\"\\nComparison with scikit-learn metrics:\")\n",
        "print(f\"Accuracy (sklearn): {accuracy_score(y_actual_class, y_pred_class)}\")\n",
        "print(f\"Precision (sklearn): {precision_score(y_actual_class, y_pred_class, average='weighted')}\")\n",
        "print(f\"Recall (sklearn): {recall_score(y_actual_class, y_pred_class, average='weighted')}\")\n",
        "print(f\"F1 Score (sklearn): {f1_score(y_actual_class, y_pred_class, average='weighted')}\")"
      ],
      "metadata": {
        "colab": {
          "base_uri": "https://localhost:8080/"
        },
        "id": "OAg0Qx1y4f4T",
        "outputId": "da8ff1d8-e455-4b8e-83e8-a46daf2abd81"
      },
      "execution_count": null,
      "outputs": [
        {
          "output_type": "stream",
          "name": "stdout",
          "text": [
            "Accuracy: 0.7058823529411765\n",
            "Precision: 0.7198879551820729\n",
            "Recall: 0.7058823529411765\n",
            "F1 Score: 0.6988795518207284\n",
            "\n",
            "Comparison with scikit-learn metrics:\n",
            "Accuracy (sklearn): 0.7058823529411765\n",
            "Precision (sklearn): 0.7198879551820729\n",
            "Recall (sklearn): 0.7058823529411765\n",
            "F1 Score (sklearn): 0.6988795518207284\n"
          ]
        }
      ]
    }
  ]
}